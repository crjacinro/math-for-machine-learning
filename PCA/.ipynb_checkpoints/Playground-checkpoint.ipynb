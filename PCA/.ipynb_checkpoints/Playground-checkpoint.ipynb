{
 "cells": [
  {
   "cell_type": "code",
   "execution_count": 11,
   "id": "7fc697de",
   "metadata": {},
   "outputs": [
    {
     "name": "stdout",
     "output_type": "stream",
     "text": [
      "0.6666666666666666\n",
      "1.3333333333333333\n",
      "[0.66666667 1.33333333 0.        ]\n"
     ]
    }
   ],
   "source": [
    "import numpy as np\n",
    "\n",
    "def mean_naive(X):\n",
    "    N, D = X.shape\n",
    "    mean = np.zeros((D,))\n",
    "    for n in range(N):\n",
    "        meanRow = np.sum(X[n]) / D\n",
    "        print(meanRow)\n",
    "        mean[n] = meanRow\n",
    "        #          mean.append(np.sum(X[n]) / D)\n",
    "        pass\n",
    "    return mean\n",
    "\n",
    "\n",
    "def cov_naive(X):\n",
    "     N, D = X.shape\n",
    "     covariance = np.zeros((D, D))\n",
    "\n",
    "     for n in range(N):\n",
    "         diff = X - mean_naive(X)\n",
    "         print(diff)\n",
    "         pass    \n",
    "     return covariance\n",
    "\n",
    "\n",
    "\n",
    "X = np.array([[0., 1., 1.], \n",
    "              [1., 2., 1.]])\n",
    "expected_mean = np.array([0.5, 1.5, 1.])\n",
    "\n",
    "print(mean_naive(X))"
   ]
  },
  {
   "cell_type": "code",
   "execution_count": null,
   "id": "00a23fbb",
   "metadata": {},
   "outputs": [],
   "source": []
  }
 ],
 "metadata": {
  "kernelspec": {
   "display_name": "Python 3",
   "language": "python",
   "name": "python3"
  },
  "language_info": {
   "codemirror_mode": {
    "name": "ipython",
    "version": 3
   },
   "file_extension": ".py",
   "mimetype": "text/x-python",
   "name": "python",
   "nbconvert_exporter": "python",
   "pygments_lexer": "ipython3",
   "version": "3.8.8"
  }
 },
 "nbformat": 4,
 "nbformat_minor": 5
}
